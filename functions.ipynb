{
 "cells": [
  {
   "cell_type": "code",
   "execution_count": 1,
   "id": "2d9fde00-b2cd-4d26-8b7d-d4dcbab0ed0c",
   "metadata": {},
   "outputs": [],
   "source": [
    "#definicja funkcji"
   ]
  },
  {
   "cell_type": "code",
   "execution_count": 2,
   "id": "177d95a3-a839-4a8b-bbd4-cdf1f738eb7f",
   "metadata": {},
   "outputs": [],
   "source": [
    "def dodawanie(a,b):\n",
    "    return a+b"
   ]
  },
  {
   "cell_type": "code",
   "execution_count": 3,
   "id": "4651086e-aef4-4e5a-aebf-db03a611c09d",
   "metadata": {},
   "outputs": [],
   "source": [
    "#wynik"
   ]
  },
  {
   "cell_type": "code",
   "execution_count": 4,
   "id": "2232366b-6ffe-454e-8e8a-c0e298f70cd5",
   "metadata": {},
   "outputs": [
    {
     "data": {
      "text/plain": [
       "3"
      ]
     },
     "execution_count": 4,
     "metadata": {},
     "output_type": "execute_result"
    }
   ],
   "source": [
    "dodawanie(1,2)"
   ]
  }
 ],
 "metadata": {
  "kernelspec": {
   "display_name": "Python 3 (ipykernel)",
   "language": "python",
   "name": "python3"
  },
  "language_info": {
   "codemirror_mode": {
    "name": "ipython",
    "version": 3
   },
   "file_extension": ".py",
   "mimetype": "text/x-python",
   "name": "python",
   "nbconvert_exporter": "python",
   "pygments_lexer": "ipython3",
   "version": "3.12.6"
  }
 },
 "nbformat": 4,
 "nbformat_minor": 5
}
